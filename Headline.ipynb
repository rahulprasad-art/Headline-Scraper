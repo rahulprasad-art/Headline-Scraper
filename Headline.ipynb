{
 "cells": [
  {
   "cell_type": "code",
   "execution_count": 7,
   "metadata": {},
   "outputs": [
    {
     "name": "stdout",
     "output_type": "stream",
     "text": [
      "Fetching Latest news heading from Google News, Please Be patient.....\n",
      "\n",
      " ------------------------------------------------------------------------------------------- \n",
      ">>>>>>>>>>>>>>>>>>>>>>>>>>>>>>>>>  TODAY's TOP HEADLINES  <<<<<<<<<<<<<<<<<<<<<<<<<<<<< \n",
      "Date: Sep-06-2020\n",
      " -------------------------- \n",
      "1) Defence minister Rajnath Singh arrives in Iran\n",
      "2) China’s PLA in race to reach the green line in Ladakh\n",
      "3) Andhra Tops \"Ease Of Doing Business\" Ranking, UP Rises To Number 2\n",
      "4) Arunachal Cops Sent To Probe Reports Of 5 Men \"Kidnapped\" By Chinese Army\n",
      "5) India's commitment to reform being taken seriously by foreign investors: Sitharaman\n",
      "6) Covid-19 snag in Mumbai-Ahmedabad bullet train project, may fail to meet 2023 deadline\n",
      "\n",
      "\n"
     ]
    },
    {
     "ename": "KeyError",
     "evalue": "'user_email'",
     "output_type": "error",
     "traceback": [
      "\u001b[1;31m---------------------------------------------------------------------------\u001b[0m",
      "\u001b[1;31mKeyError\u001b[0m                                  Traceback (most recent call last)",
      "\u001b[1;32m<ipython-input-7-62c73f629fd1>\u001b[0m in \u001b[0;36m<module>\u001b[1;34m\u001b[0m\n\u001b[0;32m     40\u001b[0m \u001b[1;33m\u001b[0m\u001b[0m\n\u001b[0;32m     41\u001b[0m \u001b[1;31m# Get credentials from the system\u001b[0m\u001b[1;33m\u001b[0m\u001b[1;33m\u001b[0m\u001b[1;33m\u001b[0m\u001b[0m\n\u001b[1;32m---> 42\u001b[1;33m \u001b[0mUSER_EMAIL\u001b[0m \u001b[1;33m=\u001b[0m \u001b[0mos\u001b[0m\u001b[1;33m.\u001b[0m\u001b[0menviron\u001b[0m\u001b[1;33m[\u001b[0m\u001b[1;34m'user_email'\u001b[0m\u001b[1;33m]\u001b[0m\u001b[1;33m\u001b[0m\u001b[1;33m\u001b[0m\u001b[0m\n\u001b[0m\u001b[0;32m     43\u001b[0m \u001b[0mMY_PASS\u001b[0m \u001b[1;33m=\u001b[0m \u001b[0mos\u001b[0m\u001b[1;33m.\u001b[0m\u001b[0menviron\u001b[0m\u001b[1;33m[\u001b[0m\u001b[1;34m'my_pass'\u001b[0m\u001b[1;33m]\u001b[0m\u001b[1;33m\u001b[0m\u001b[1;33m\u001b[0m\u001b[0m\n\u001b[0;32m     44\u001b[0m \u001b[0mMY_EMAIL\u001b[0m \u001b[1;33m=\u001b[0m \u001b[0mos\u001b[0m\u001b[1;33m.\u001b[0m\u001b[0menviron\u001b[0m\u001b[1;33m[\u001b[0m\u001b[1;34m'my_email'\u001b[0m\u001b[1;33m]\u001b[0m\u001b[1;33m\u001b[0m\u001b[1;33m\u001b[0m\u001b[0m\n",
      "\u001b[1;32m~\\anaconda3\\lib\\os.py\u001b[0m in \u001b[0;36m__getitem__\u001b[1;34m(self, key)\u001b[0m\n\u001b[0;32m    673\u001b[0m         \u001b[1;32mexcept\u001b[0m \u001b[0mKeyError\u001b[0m\u001b[1;33m:\u001b[0m\u001b[1;33m\u001b[0m\u001b[1;33m\u001b[0m\u001b[0m\n\u001b[0;32m    674\u001b[0m             \u001b[1;31m# raise KeyError with the original key value\u001b[0m\u001b[1;33m\u001b[0m\u001b[1;33m\u001b[0m\u001b[1;33m\u001b[0m\u001b[0m\n\u001b[1;32m--> 675\u001b[1;33m             \u001b[1;32mraise\u001b[0m \u001b[0mKeyError\u001b[0m\u001b[1;33m(\u001b[0m\u001b[0mkey\u001b[0m\u001b[1;33m)\u001b[0m \u001b[1;32mfrom\u001b[0m \u001b[1;32mNone\u001b[0m\u001b[1;33m\u001b[0m\u001b[1;33m\u001b[0m\u001b[0m\n\u001b[0m\u001b[0;32m    676\u001b[0m         \u001b[1;32mreturn\u001b[0m \u001b[0mself\u001b[0m\u001b[1;33m.\u001b[0m\u001b[0mdecodevalue\u001b[0m\u001b[1;33m(\u001b[0m\u001b[0mvalue\u001b[0m\u001b[1;33m)\u001b[0m\u001b[1;33m\u001b[0m\u001b[1;33m\u001b[0m\u001b[0m\n\u001b[0;32m    677\u001b[0m \u001b[1;33m\u001b[0m\u001b[0m\n",
      "\u001b[1;31mKeyError\u001b[0m: 'user_email'"
     ]
    }
   ],
   "source": [
    "from selenium import webdriver\n",
    "from selenium.webdriver.common.keys import Keys\n",
    "import datetime ,time , os\n",
    "import smtplib\n",
    "from email.message import EmailMessage\n",
    "\n",
    "td=datetime.date.today()\n",
    "# create a webdriver object for chrome-option and configure\n",
    "wait_imp = 10\n",
    "CO = webdriver.ChromeOptions()\n",
    "CO.add_experimental_option('useAutomationExtension', False)\n",
    "CO.add_argument('--ignore-certificate-errors')\n",
    "CO.add_argument('--start-maximized')\n",
    "wd = webdriver.Chrome(r'D:\\Learning\\Practice\\Selenium\\chromedriver.exe',options=CO)\n",
    "\n",
    "print(\"Fetching Latest news heading from Google News, Please Be patient.....\\n\")\n",
    "news_site= \"https://news.google.com/topstories?hl=en-IN&gl=IN&ceid=IN:en\"\n",
    "\n",
    "\n",
    "print (\" ------------------------------------------------------------------------------------------- \")\n",
    "print (\">>>>>>>>>>>>>>>>>>>>>>>>>>>>>>>>>  TODAY's TOP HEADLINES  <<<<<<<<<<<<<<<<<<<<<<<<<<<<< \")\n",
    "print (\"Date:\",td.strftime(\"%b-%d-%Y\"))\n",
    "print (\" -------------------------- \")\n",
    "\n",
    "\n",
    "wd.get(news_site)\n",
    "wd.implicitly_wait(wait_imp)\n",
    "elems = wd.find_elements_by_tag_name('h3')\n",
    "\n",
    "file_loc = r'D:\\Learning\\Practice\\Selenium\\Latest News\\newsfile.txt'\n",
    "file_to_write = open(file_loc, 'w+')\n",
    "ind = 1\n",
    "for elem in elems:\n",
    "    file_to_write.write(str(ind)+ '>> ')\n",
    "    file_to_write.write(elem.text+'\\n')\n",
    "    print (str(ind) + \") \" + elem.text)\n",
    "    ind += 1\n",
    "file_to_write.close()\n",
    "print('\\n')\n",
    "\n",
    "# Get credentials from the system\n",
    "USER_EMAIL = os.environ['user_email']\n",
    "MY_PASS = os.environ['my_pass']\n",
    "MY_EMAIL = os.environ['my_email']\n",
    "  \n",
    "# Compose message\n",
    "msg = EmailMessage()\n",
    "msg['From'] = MY_EMAIL\n",
    "msg['To']   = USER_EMAIL\n",
    "msg['Subject'] = \" Hello ! Today's TOP news HEADLINES >>\"\n",
    "\n",
    "with open(file_loc,'rb') as f:\n",
    "    N_file = f.read()\n",
    "\n",
    "# Body of email  \n",
    "msg.set_content(\"Find the attached document for detailed NEWS .. \")\n",
    "msg.add_attachment(N_file, maintype = 'document',subtype = 'txt', filename = f.name )\n",
    "\n",
    "# Configure server\n",
    "server = smtplib.SMTP('smtp.gmail.com', 587) #tls , ssl\n",
    "server.ehlo()\n",
    "server.starttls()\n",
    "server.ehlo()\n",
    "server.login(MY_EMAIL,MY_PASS)\n",
    "server.send_message(msg)\n",
    "\n",
    "print (\"A copy of this NEWS HEADLINES has been sent to your E-mail Successfully !!\")\n",
    "print (\"Have a Nice Day !!\")\n",
    "server.quit()"
   ]
  },
  {
   "cell_type": "code",
   "execution_count": null,
   "metadata": {},
   "outputs": [],
   "source": []
  }
 ],
 "metadata": {
  "kernelspec": {
   "display_name": "Python 3",
   "language": "python",
   "name": "python3"
  },
  "language_info": {
   "codemirror_mode": {
    "name": "ipython",
    "version": 3
   },
   "file_extension": ".py",
   "mimetype": "text/x-python",
   "name": "python",
   "nbconvert_exporter": "python",
   "pygments_lexer": "ipython3",
   "version": "3.8.3"
  }
 },
 "nbformat": 4,
 "nbformat_minor": 4
}
